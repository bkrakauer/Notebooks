{
 "cells": [
  {
   "cell_type": "markdown",
   "metadata": {},
   "source": [
    "# Abusive email classifier project"
   ]
  },
  {
   "cell_type": "code",
   "execution_count": 1,
   "metadata": {
    "collapsed": true
   },
   "outputs": [],
   "source": [
    "import pandas as pd\n",
    "import numpy as np\n",
    "from nltk.tokenize import word_tokenize\n",
    "from nltk.corpus import stopwords\n",
    "from nltk.stem import PorterStemmer\n",
    "from nltk.stem import WordNetLemmatizer\n",
    "from wordcloud import WordCloud\n",
    "from sklearn.model_selection import train_test_split\n",
    "from sklearn.svm import LinearSVC\n",
    "from sklearn.svm import SVC\n",
    "from sklearn.feature_extraction.text import TfidfVectorizer\n",
    "from sklearn.multiclass import OneVsRestClassifier\n",
    "from sklearn.metrics import accuracy_score, f1_score, precision_score, recall_score"
   ]
  },
  {
   "cell_type": "markdown",
   "metadata": {},
   "source": [
    "Load the data in"
   ]
  },
  {
   "cell_type": "code",
   "execution_count": 3,
   "metadata": {},
   "outputs": [],
   "source": [
    "data = pd.read_csv('/Users/barak/Downloads/train (1).csv')\n",
    "X = data.comment_text\n",
    "y = data.iloc[:,2:]\n",
    "X_train, X_test, y_train, y_test = train_test_split(X, y, test_size=.3)"
   ]
  },
  {
   "cell_type": "markdown",
   "metadata": {},
   "source": [
    "Vectorize the data"
   ]
  },
  {
   "cell_type": "code",
   "execution_count": 5,
   "metadata": {},
   "outputs": [],
   "source": [
    "vectorizer = TfidfVectorizer(stop_words=stopwords.words('english'))\n",
    "vectorised_train_data = vectorizer.fit_transform(X_train)\n",
    "vectorised_test_data = vectorizer.transform(X_test)"
   ]
  },
  {
   "cell_type": "markdown",
   "metadata": {},
   "source": [
    "## Strategy 1: One-Vs-Rest SVM Classifier"
   ]
  },
  {
   "cell_type": "code",
   "execution_count": 7,
   "metadata": {},
   "outputs": [
    {
     "data": {
      "text/plain": [
       "OneVsRestClassifier(estimator=SVC(C=1.0, cache_size=200, class_weight=None, coef0=0.0,\n",
       "  decision_function_shape='ovr', degree=3, gamma='auto', kernel='linear',\n",
       "  max_iter=-1, probability=False, random_state=None, shrinking=True,\n",
       "  tol=0.001, verbose=False),\n",
       "          n_jobs=1)"
      ]
     },
     "execution_count": 7,
     "metadata": {},
     "output_type": "execute_result"
    }
   ],
   "source": [
    "classifier = OneVsRestClassifier(SVC(kernel='linear'))\n",
    "classifier.fit(vectorised_train_data, y_train)"
   ]
  },
  {
   "cell_type": "markdown",
   "metadata": {},
   "source": [
    "Make predictions"
   ]
  },
  {
   "cell_type": "code",
   "execution_count": 8,
   "metadata": {
    "collapsed": true
   },
   "outputs": [],
   "source": [
    "predictions = classifier.predict(vectorised_test_data)"
   ]
  },
  {
   "cell_type": "code",
   "execution_count": 9,
   "metadata": {
    "collapsed": true
   },
   "outputs": [],
   "source": [
    "accuracy = accuracy_score(y_test, predictions)\n",
    "precision = precision_score(y_test, predictions, average='micro')\n",
    "recall = recall_score(y_test, predictions, average='micro')\n",
    "f1 = f1_score(y_test, predictions, average='micro')"
   ]
  },
  {
   "cell_type": "code",
   "execution_count": 10,
   "metadata": {},
   "outputs": [
    {
     "name": "stdout",
     "output_type": "stream",
     "text": [
      "Accuracy = 0.9201412098930482\n",
      "Precision = 0.8610288176676542\n",
      "Recall = 0.6076791484508649\n",
      "F1 = 0.7125027858257188\n"
     ]
    }
   ],
   "source": [
    "print(\"Accuracy = {}\".format(accuracy))\n",
    "print(\"Precision = {}\".format(precision))\n",
    "print(\"Recall = {}\".format(recall))\n",
    "print(\"F1 = {}\".format(f1))"
   ]
  },
  {
   "cell_type": "markdown",
   "metadata": {},
   "source": [
    "## Strategy 2: DNN on the Bag of Words Emails"
   ]
  },
  {
   "cell_type": "code",
   "execution_count": 25,
   "metadata": {
    "collapsed": true
   },
   "outputs": [],
   "source": [
    "from keras.models import Sequential\n",
    "from keras.layers import Dense, Dropout, Activation\n",
    "from keras.optimizers import RMSprop"
   ]
  },
  {
   "cell_type": "code",
   "execution_count": 18,
   "metadata": {},
   "outputs": [
    {
     "data": {
      "text/plain": [
       "(47872, 152259)"
      ]
     },
     "execution_count": 18,
     "metadata": {},
     "output_type": "execute_result"
    }
   ],
   "source": [
    "vectorised_test_data.shape"
   ]
  },
  {
   "cell_type": "code",
   "execution_count": 21,
   "metadata": {},
   "outputs": [],
   "source": [
    "model = Sequential()\n",
    "model.add(Dense(64, activation='relu', input_dim=vectorised_train_data.shape[1]))\n",
    "model.add(Dropout(.5))\n",
    "model.add(Dense(64))\n",
    "model.add(Dropout(.5))\n",
    "model.add(Dense(y_train.shape[1], activation='sigmoid'))\n"
   ]
  },
  {
   "cell_type": "code",
   "execution_count": 27,
   "metadata": {},
   "outputs": [],
   "source": [
    "model.compile(loss='binary_crossentropy', optimizer='rmsprop', metrics=['accuracy'])"
   ]
  },
  {
   "cell_type": "code",
   "execution_count": 28,
   "metadata": {},
   "outputs": [
    {
     "name": "stdout",
     "output_type": "stream",
     "text": [
      "Epoch 1/20\n",
      "111699/111699 [==============================] - 279s 2ms/step - loss: 0.1082 - acc: 0.9709\n",
      "Epoch 2/20\n",
      "111699/111699 [==============================] - 279s 2ms/step - loss: 0.0757 - acc: 0.9769\n",
      "Epoch 3/20\n",
      "111699/111699 [==============================] - 278s 2ms/step - loss: 0.0704 - acc: 0.9782\n",
      "Epoch 4/20\n",
      "111699/111699 [==============================] - 280s 3ms/step - loss: 0.0682 - acc: 0.9789\n",
      "Epoch 5/20\n",
      "111699/111699 [==============================] - 281s 3ms/step - loss: 0.0663 - acc: 0.9793\n",
      "Epoch 6/20\n",
      "111699/111699 [==============================] - 281s 3ms/step - loss: 0.0649 - acc: 0.9799\n",
      "Epoch 7/20\n",
      "111699/111699 [==============================] - 282s 3ms/step - loss: 0.0639 - acc: 0.9800\n",
      "Epoch 8/20\n",
      "111699/111699 [==============================] - 281s 3ms/step - loss: 0.0628 - acc: 0.9805\n",
      "Epoch 9/20\n",
      "111699/111699 [==============================] - 281s 3ms/step - loss: 0.0623 - acc: 0.9806\n",
      "Epoch 10/20\n",
      "111699/111699 [==============================] - 273s 2ms/step - loss: 0.0615 - acc: 0.9809\n",
      "Epoch 11/20\n",
      "111699/111699 [==============================] - 279s 2ms/step - loss: 0.0610 - acc: 0.9811\n",
      "Epoch 12/20\n",
      "111699/111699 [==============================] - 277s 2ms/step - loss: 0.0601 - acc: 0.9814\n",
      "Epoch 13/20\n",
      "111699/111699 [==============================] - 273s 2ms/step - loss: 0.0596 - acc: 0.9815\n",
      "Epoch 14/20\n",
      "111699/111699 [==============================] - 273s 2ms/step - loss: 0.0592 - acc: 0.9816\n",
      "Epoch 15/20\n",
      "111699/111699 [==============================] - 281s 3ms/step - loss: 0.0589 - acc: 0.9818\n",
      "Epoch 16/20\n",
      "111699/111699 [==============================] - 275s 2ms/step - loss: 0.0578 - acc: 0.9821\n",
      "Epoch 17/20\n",
      "111699/111699 [==============================] - 279s 2ms/step - loss: 0.0578 - acc: 0.9821\n",
      "Epoch 18/20\n",
      "111699/111699 [==============================] - 278s 2ms/step - loss: 0.0570 - acc: 0.9824\n",
      "Epoch 19/20\n",
      "111699/111699 [==============================] - 271s 2ms/step - loss: 0.0565 - acc: 0.9824\n",
      "Epoch 20/20\n",
      "111699/111699 [==============================] - 278s 2ms/step - loss: 0.0563 - acc: 0.9826\n",
      "47872/47872 [==============================] - 65s 1ms/step\n"
     ]
    }
   ],
   "source": [
    "model.fit(vectorised_train_data, y_train,\n",
    "          epochs=20,\n",
    "          batch_size=128)b\n",
    "score = model.evaluate(vectorised_test_data, y_test, batch_size=128)"
   ]
  },
  {
   "cell_type": "code",
   "execution_count": 29,
   "metadata": {},
   "outputs": [
    {
     "data": {
      "text/plain": [
       "[0.06685063293711706, 0.9803329798627027]"
      ]
     },
     "execution_count": 29,
     "metadata": {},
     "output_type": "execute_result"
    }
   ],
   "source": [
    "score"
   ]
  },
  {
   "cell_type": "code",
   "execution_count": 30,
   "metadata": {
    "collapsed": true
   },
   "outputs": [],
   "source": [
    "nn_preds = model.predict(vectorised_test_data)"
   ]
  },
  {
   "cell_type": "code",
   "execution_count": 37,
   "metadata": {
    "collapsed": true
   },
   "outputs": [],
   "source": [
    "nn_preds_rounded = (nn_preds > .5).astype(int) "
   ]
  },
  {
   "cell_type": "code",
   "execution_count": 39,
   "metadata": {},
   "outputs": [
    {
     "name": "stdout",
     "output_type": "stream",
     "text": [
      "Accuracy = 0.9134984959893048\n",
      "Precision = 0.8019581112901227\n",
      "Recall = 0.6149971488310207\n",
      "F1 = 0.696143295142811\n"
     ]
    }
   ],
   "source": [
    "accuracy = accuracy_score(y_test, nn_preds_rounded)\n",
    "precision = precision_score(y_test, nn_preds_rounded, average='micro')\n",
    "recall = recall_score(y_test, nn_preds_rounded, average='micro')\n",
    "f1 = f1_score(y_test, nn_preds_rounded, average='micro')\n",
    "print(\"Accuracy = {}\".format(accuracy))\n",
    "print(\"Precision = {}\".format(precision))\n",
    "print(\"Recall = {}\".format(recall))\n",
    "print(\"F1 = {}\".format(f1))"
   ]
  },
  {
   "cell_type": "markdown",
   "metadata": {},
   "source": [
    "## Strategy 3: ConvNet"
   ]
  },
  {
   "cell_type": "code",
   "execution_count": 44,
   "metadata": {},
   "outputs": [
    {
     "name": "stdout",
     "output_type": "stream",
     "text": [
      "Max length = 5000\n"
     ]
    }
   ],
   "source": [
    "# Word-level model\n",
    "max_len = max(len(X[i]) for i in range(X.shape[0]))\n",
    "print (\"Max length = {}\".format(max_len))"
   ]
  },
  {
   "cell_type": "code",
   "execution_count": 59,
   "metadata": {},
   "outputs": [
    {
     "name": "stdout",
     "output_type": "stream",
     "text": [
      "['Accent', 'Flake..', 'shadow,', '\"Rebecca,', '[I’m', '\"\"know\"\"', 'namespace)', 'BALONEY', 'A6nn', 'CPC-ML', 'extent.', 'nicer.)', 'Wikipedia:Cat', 'Hidari-Mitsudomoe', 'Hamlets', 'Scype.', 'subproject,', 'advocate..', 'Controversies.\"\"', 'Franca;', 'cosmologies', \"Brooke's\", '05-30-2009', 'COMMUNISM\"\"', 'thing,SPAIN', 'Ronaldihno', '210.50.232.183', '(duh', 'Muniz', '\"\"enormous', 'routing.', 'Wulfings', 'MUFFIN', 'produces.', 'bisexual', 'TOTAL........£19,336.62', 'thirty-odd', '1098', \"eachother's\", 'orthodoxy.\"', 'elsewhen', 'swamps', 'Babylonians', 'asserts', \"(hG/c^3)^1/2'd'(Vacuum\", 'Bachcell', 'non-chronological', 'Unblocking/Blocking', 'place?...', 'airliner.', 'жарки', 'Revenoor', 'nationalists?', '\"\"trolls\"\".', 'baited,', '\"\"...To', \"SAAMI's\", '28385S)-SR-3.', '4872', '202.63.42.221,', 'socialist)?', 'dip-stick', 'shooting/murdering', 'Kanaan', '\"\"Mushrik\"\",', 'userfy', 'Special:Contributions/Avraham', 'topped', 'posterity.', '\"\"Daniel\"\"', 'SaltyPig.', '11:00,', 'Sterling\"\"', 'sob', 'Intellectual,', 'muhahahahahahahahahahahahahahahahahahaha!!!!', 'pointless.Once', '“he/she”', \"('Punjab\", 'preservation', \"hitler'\", 'etu', 'sa.', '\"\"crime\"\"', 'fisting', '\"Disgusting==', 'Talk:Monastyrysche', '(fruit).', 'enough...Ciao.', 'misinformation,', 'colleague)', 'abosutly', '(derogatory)', 'refreshingly', 'diocese', 'Off-the-cuff', 'http://www.ethnologue.org/show_country.asp?name=GR', 'veganism.\"\"', 'societies.', 'Snow!'] 532299\n"
     ]
    }
   ],
   "source": [
    "wordslist = \" \".join(X).split()\n",
    "wordslist = list(set(wordslist))\n",
    "print (wordslist[:100], len(wordslist))"
   ]
  },
  {
   "cell_type": "code",
   "execution_count": 60,
   "metadata": {
    "collapsed": true
   },
   "outputs": [],
   "source": [
    "word_indices = dict((c, i) for i, c in enumerate(wordslist))"
   ]
  },
  {
   "cell_type": "code",
   "execution_count": 65,
   "metadata": {},
   "outputs": [
    {
     "data": {
      "text/plain": [
       "175778"
      ]
     },
     "execution_count": 65,
     "metadata": {},
     "output_type": "execute_result"
    }
   ],
   "source": [
    "word_indices['UNK'] = -1\n",
    "word_indices['cat']"
   ]
  },
  {
   "cell_type": "code",
   "execution_count": 66,
   "metadata": {},
   "outputs": [],
   "source": [
    "maxlen = 500\n",
    "X_seq = np.zeros((len(X), maxlen))\n",
    "for i, msg in enumerate(X):\n",
    "    for t, word in enumerate(msg):\n",
    "        if t < maxlen:\n",
    "            try:\n",
    "                X_seq[i, t] = word_indices[word]\n",
    "            except KeyError:\n",
    "                X_seq[i, t] = -1\n",
    "        else:\n",
    "            continue"
   ]
  },
  {
   "cell_type": "code",
   "execution_count": 68,
   "metadata": {},
   "outputs": [
    {
     "data": {
      "text/plain": [
       "array([ 4.39995e+05, -1.00000e+00, -1.00000e+00,  1.42011e+05,\n",
       "        3.07468e+05,  1.32184e+05,  2.32736e+05,  2.76581e+05,\n",
       "        9.43900e+03,  2.90868e+05,  1.56370e+04,  5.09856e+05,\n",
       "        9.43900e+03,  2.90868e+05,  1.05493e+05,  3.07468e+05,\n",
       "        1.32184e+05,  6.75400e+04, -1.00000e+00,  3.83766e+05,\n",
       "        2.76581e+05,  3.07468e+05,  5.07010e+04, -1.00000e+00,\n",
       "        5.07010e+04,  1.90264e+05, -1.00000e+00,  9.43900e+03,\n",
       "        6.75400e+04, -1.00000e+00,  2.46804e+05,  1.90264e+05,\n",
       "        5.09856e+05,  5.09856e+05,  4.92200e+04, -1.00000e+00,\n",
       "        1.56370e+04,  6.75400e+04,  1.90264e+05, -1.00000e+00,\n",
       "        2.90868e+05,  4.39577e+05,  1.90264e+05, -1.00000e+00,\n",
       "        2.90868e+05,  3.07468e+05,  3.07468e+05,  5.09856e+05,\n",
       "        6.75400e+04, -1.00000e+00,  2.46804e+05,  1.90264e+05,\n",
       "        5.09856e+05,  5.09856e+05,  2.55008e+05, -1.00000e+00,\n",
       "       -1.00000e+00,  2.21036e+05, -1.00000e+00,  2.90868e+05,\n",
       "        9.43900e+03,  5.09856e+05,  6.48980e+04, -1.00000e+00,\n",
       "        4.39995e+05,  0.00000e+00,  0.00000e+00,  0.00000e+00,\n",
       "        0.00000e+00,  0.00000e+00,  0.00000e+00,  0.00000e+00,\n",
       "        0.00000e+00,  0.00000e+00,  0.00000e+00,  0.00000e+00,\n",
       "        0.00000e+00,  0.00000e+00,  0.00000e+00,  0.00000e+00,\n",
       "        0.00000e+00,  0.00000e+00,  0.00000e+00,  0.00000e+00,\n",
       "        0.00000e+00,  0.00000e+00,  0.00000e+00,  0.00000e+00,\n",
       "        0.00000e+00,  0.00000e+00,  0.00000e+00,  0.00000e+00,\n",
       "        0.00000e+00,  0.00000e+00,  0.00000e+00,  0.00000e+00,\n",
       "        0.00000e+00,  0.00000e+00,  0.00000e+00,  0.00000e+00,\n",
       "        0.00000e+00,  0.00000e+00,  0.00000e+00,  0.00000e+00,\n",
       "        0.00000e+00,  0.00000e+00,  0.00000e+00,  0.00000e+00,\n",
       "        0.00000e+00,  0.00000e+00,  0.00000e+00,  0.00000e+00,\n",
       "        0.00000e+00,  0.00000e+00,  0.00000e+00,  0.00000e+00,\n",
       "        0.00000e+00,  0.00000e+00,  0.00000e+00,  0.00000e+00,\n",
       "        0.00000e+00,  0.00000e+00,  0.00000e+00,  0.00000e+00,\n",
       "        0.00000e+00,  0.00000e+00,  0.00000e+00,  0.00000e+00,\n",
       "        0.00000e+00,  0.00000e+00,  0.00000e+00,  0.00000e+00,\n",
       "        0.00000e+00,  0.00000e+00,  0.00000e+00,  0.00000e+00,\n",
       "        0.00000e+00,  0.00000e+00,  0.00000e+00,  0.00000e+00,\n",
       "        0.00000e+00,  0.00000e+00,  0.00000e+00,  0.00000e+00,\n",
       "        0.00000e+00,  0.00000e+00,  0.00000e+00,  0.00000e+00,\n",
       "        0.00000e+00,  0.00000e+00,  0.00000e+00,  0.00000e+00,\n",
       "        0.00000e+00,  0.00000e+00,  0.00000e+00,  0.00000e+00,\n",
       "        0.00000e+00,  0.00000e+00,  0.00000e+00,  0.00000e+00,\n",
       "        0.00000e+00,  0.00000e+00,  0.00000e+00,  0.00000e+00,\n",
       "        0.00000e+00,  0.00000e+00,  0.00000e+00,  0.00000e+00,\n",
       "        0.00000e+00,  0.00000e+00,  0.00000e+00,  0.00000e+00,\n",
       "        0.00000e+00,  0.00000e+00,  0.00000e+00,  0.00000e+00,\n",
       "        0.00000e+00,  0.00000e+00,  0.00000e+00,  0.00000e+00,\n",
       "        0.00000e+00,  0.00000e+00,  0.00000e+00,  0.00000e+00,\n",
       "        0.00000e+00,  0.00000e+00,  0.00000e+00,  0.00000e+00,\n",
       "        0.00000e+00,  0.00000e+00,  0.00000e+00,  0.00000e+00,\n",
       "        0.00000e+00,  0.00000e+00,  0.00000e+00,  0.00000e+00,\n",
       "        0.00000e+00,  0.00000e+00,  0.00000e+00,  0.00000e+00,\n",
       "        0.00000e+00,  0.00000e+00,  0.00000e+00,  0.00000e+00,\n",
       "        0.00000e+00,  0.00000e+00,  0.00000e+00,  0.00000e+00,\n",
       "        0.00000e+00,  0.00000e+00,  0.00000e+00,  0.00000e+00,\n",
       "        0.00000e+00,  0.00000e+00,  0.00000e+00,  0.00000e+00,\n",
       "        0.00000e+00,  0.00000e+00,  0.00000e+00,  0.00000e+00,\n",
       "        0.00000e+00,  0.00000e+00,  0.00000e+00,  0.00000e+00,\n",
       "        0.00000e+00,  0.00000e+00,  0.00000e+00,  0.00000e+00,\n",
       "        0.00000e+00,  0.00000e+00,  0.00000e+00,  0.00000e+00,\n",
       "        0.00000e+00,  0.00000e+00,  0.00000e+00,  0.00000e+00,\n",
       "        0.00000e+00,  0.00000e+00,  0.00000e+00,  0.00000e+00,\n",
       "        0.00000e+00,  0.00000e+00,  0.00000e+00,  0.00000e+00,\n",
       "        0.00000e+00,  0.00000e+00,  0.00000e+00,  0.00000e+00,\n",
       "        0.00000e+00,  0.00000e+00,  0.00000e+00,  0.00000e+00,\n",
       "        0.00000e+00,  0.00000e+00,  0.00000e+00,  0.00000e+00,\n",
       "        0.00000e+00,  0.00000e+00,  0.00000e+00,  0.00000e+00,\n",
       "        0.00000e+00,  0.00000e+00,  0.00000e+00,  0.00000e+00,\n",
       "        0.00000e+00,  0.00000e+00,  0.00000e+00,  0.00000e+00,\n",
       "        0.00000e+00,  0.00000e+00,  0.00000e+00,  0.00000e+00,\n",
       "        0.00000e+00,  0.00000e+00,  0.00000e+00,  0.00000e+00,\n",
       "        0.00000e+00,  0.00000e+00,  0.00000e+00,  0.00000e+00,\n",
       "        0.00000e+00,  0.00000e+00,  0.00000e+00,  0.00000e+00,\n",
       "        0.00000e+00,  0.00000e+00,  0.00000e+00,  0.00000e+00,\n",
       "        0.00000e+00,  0.00000e+00,  0.00000e+00,  0.00000e+00,\n",
       "        0.00000e+00,  0.00000e+00,  0.00000e+00,  0.00000e+00,\n",
       "        0.00000e+00,  0.00000e+00,  0.00000e+00,  0.00000e+00,\n",
       "        0.00000e+00,  0.00000e+00,  0.00000e+00,  0.00000e+00,\n",
       "        0.00000e+00,  0.00000e+00,  0.00000e+00,  0.00000e+00,\n",
       "        0.00000e+00,  0.00000e+00,  0.00000e+00,  0.00000e+00,\n",
       "        0.00000e+00,  0.00000e+00,  0.00000e+00,  0.00000e+00,\n",
       "        0.00000e+00,  0.00000e+00,  0.00000e+00,  0.00000e+00,\n",
       "        0.00000e+00,  0.00000e+00,  0.00000e+00,  0.00000e+00,\n",
       "        0.00000e+00,  0.00000e+00,  0.00000e+00,  0.00000e+00,\n",
       "        0.00000e+00,  0.00000e+00,  0.00000e+00,  0.00000e+00,\n",
       "        0.00000e+00,  0.00000e+00,  0.00000e+00,  0.00000e+00,\n",
       "        0.00000e+00,  0.00000e+00,  0.00000e+00,  0.00000e+00,\n",
       "        0.00000e+00,  0.00000e+00,  0.00000e+00,  0.00000e+00,\n",
       "        0.00000e+00,  0.00000e+00,  0.00000e+00,  0.00000e+00,\n",
       "        0.00000e+00,  0.00000e+00,  0.00000e+00,  0.00000e+00,\n",
       "        0.00000e+00,  0.00000e+00,  0.00000e+00,  0.00000e+00,\n",
       "        0.00000e+00,  0.00000e+00,  0.00000e+00,  0.00000e+00,\n",
       "        0.00000e+00,  0.00000e+00,  0.00000e+00,  0.00000e+00,\n",
       "        0.00000e+00,  0.00000e+00,  0.00000e+00,  0.00000e+00,\n",
       "        0.00000e+00,  0.00000e+00,  0.00000e+00,  0.00000e+00,\n",
       "        0.00000e+00,  0.00000e+00,  0.00000e+00,  0.00000e+00,\n",
       "        0.00000e+00,  0.00000e+00,  0.00000e+00,  0.00000e+00,\n",
       "        0.00000e+00,  0.00000e+00,  0.00000e+00,  0.00000e+00,\n",
       "        0.00000e+00,  0.00000e+00,  0.00000e+00,  0.00000e+00,\n",
       "        0.00000e+00,  0.00000e+00,  0.00000e+00,  0.00000e+00,\n",
       "        0.00000e+00,  0.00000e+00,  0.00000e+00,  0.00000e+00,\n",
       "        0.00000e+00,  0.00000e+00,  0.00000e+00,  0.00000e+00,\n",
       "        0.00000e+00,  0.00000e+00,  0.00000e+00,  0.00000e+00,\n",
       "        0.00000e+00,  0.00000e+00,  0.00000e+00,  0.00000e+00,\n",
       "        0.00000e+00,  0.00000e+00,  0.00000e+00,  0.00000e+00,\n",
       "        0.00000e+00,  0.00000e+00,  0.00000e+00,  0.00000e+00,\n",
       "        0.00000e+00,  0.00000e+00,  0.00000e+00,  0.00000e+00,\n",
       "        0.00000e+00,  0.00000e+00,  0.00000e+00,  0.00000e+00,\n",
       "        0.00000e+00,  0.00000e+00,  0.00000e+00,  0.00000e+00,\n",
       "        0.00000e+00,  0.00000e+00,  0.00000e+00,  0.00000e+00,\n",
       "        0.00000e+00,  0.00000e+00,  0.00000e+00,  0.00000e+00,\n",
       "        0.00000e+00,  0.00000e+00,  0.00000e+00,  0.00000e+00,\n",
       "        0.00000e+00,  0.00000e+00,  0.00000e+00,  0.00000e+00,\n",
       "        0.00000e+00,  0.00000e+00,  0.00000e+00,  0.00000e+00,\n",
       "        0.00000e+00,  0.00000e+00,  0.00000e+00,  0.00000e+00,\n",
       "        0.00000e+00,  0.00000e+00,  0.00000e+00,  0.00000e+00,\n",
       "        0.00000e+00,  0.00000e+00,  0.00000e+00,  0.00000e+00,\n",
       "        0.00000e+00,  0.00000e+00,  0.00000e+00,  0.00000e+00,\n",
       "        0.00000e+00,  0.00000e+00,  0.00000e+00,  0.00000e+00,\n",
       "        0.00000e+00,  0.00000e+00,  0.00000e+00,  0.00000e+00,\n",
       "        0.00000e+00,  0.00000e+00,  0.00000e+00,  0.00000e+00,\n",
       "        0.00000e+00,  0.00000e+00,  0.00000e+00,  0.00000e+00,\n",
       "        0.00000e+00,  0.00000e+00,  0.00000e+00,  0.00000e+00,\n",
       "        0.00000e+00,  0.00000e+00,  0.00000e+00,  0.00000e+00,\n",
       "        0.00000e+00,  0.00000e+00,  0.00000e+00,  0.00000e+00,\n",
       "        0.00000e+00,  0.00000e+00,  0.00000e+00,  0.00000e+00,\n",
       "        0.00000e+00,  0.00000e+00,  0.00000e+00,  0.00000e+00])"
      ]
     },
     "execution_count": 68,
     "metadata": {},
     "output_type": "execute_result"
    }
   ],
   "source": [
    "X_seq[5]"
   ]
  },
  {
   "cell_type": "markdown",
   "metadata": {},
   "source": [
    "## Strategy 4: Sequence Model"
   ]
  },
  {
   "cell_type": "code",
   "execution_count": null,
   "metadata": {
    "collapsed": true
   },
   "outputs": [],
   "source": []
  }
 ],
 "metadata": {
  "kernelspec": {
   "display_name": "Python 3",
   "language": "python",
   "name": "python3"
  },
  "language_info": {
   "codemirror_mode": {
    "name": "ipython",
    "version": 3
   },
   "file_extension": ".py",
   "mimetype": "text/x-python",
   "name": "python",
   "nbconvert_exporter": "python",
   "pygments_lexer": "ipython3",
   "version": "3.6.4"
  }
 },
 "nbformat": 4,
 "nbformat_minor": 2
}
