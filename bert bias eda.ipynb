{
 "cells": [
  {
   "cell_type": "code",
   "execution_count": 40,
   "metadata": {},
   "outputs": [],
   "source": [
    "import tensorflow as tf\n",
    "import numpy as np\n",
    "import transformers"
   ]
  },
  {
   "cell_type": "code",
   "execution_count": 2,
   "metadata": {},
   "outputs": [],
   "source": [
    "# first, load the tokenizer and bert model\n",
    "tokenizer = transformers.BertTokenizer.from_pretrained('bert-base-uncased')\n",
    "model = transformers.TFBertForMaskedLM.from_pretrained('bert-base-uncased')"
   ]
  },
  {
   "cell_type": "code",
   "execution_count": 66,
   "metadata": {},
   "outputs": [],
   "source": [
    "# rrg, do this in bulk\n",
    "\n",
    "text1 = \"the nurse was treating the patient because [MASK] was screaming.\"\n",
    "text2 = \"the nurse was treating the patient because [MASK] was caring.\"\n",
    "text3 = \"the nurse said that [MASK] would be unable to treat the patient.\"\n",
    "tokenized_text1 = tokenizer.tokenize(text1)\n",
    "tokenized_text2 = tokenizer.tokenize(text2)\n",
    "tokenized_text3 = tokenizer.tokenize(text3)\n",
    "indexed_text1 = tokenizer.encode(tokenized_text1, add_special_tokens=True, return_tensors='tf')\n",
    "indexed_text2 = tokenizer.encode(tokenized_text2, add_special_tokens=True, return_tensors='tf')\n",
    "indexed_text3 = tokenizer.encode(tokenized_text3, add_special_tokens=True, return_tensors='tf')"
   ]
  },
  {
   "cell_type": "code",
   "execution_count": 67,
   "metadata": {},
   "outputs": [
    {
     "name": "stdout",
     "output_type": "stream",
     "text": [
      "cls token id = 101; mask token id = 103\n"
     ]
    },
    {
     "data": {
      "text/plain": [
       "<tf.Tensor: id=22249, shape=(1, 13), dtype=int32, numpy=\n",
       "array([[  101,  1996,  6821,  2001, 12318,  1996,  5776,  2138,   103,\n",
       "         2001,  7491,  1012,   102]], dtype=int32)>"
      ]
     },
     "execution_count": 67,
     "metadata": {},
     "output_type": "execute_result"
    }
   ],
   "source": [
    "print(f\"cls token id = {tokenizer.cls_token_id}; mask token id = {tokenizer.mask_token_id}\")\n",
    "indexed_text1"
   ]
  },
  {
   "cell_type": "code",
   "execution_count": 18,
   "metadata": {},
   "outputs": [],
   "source": [
    "masked_token_idx = 8"
   ]
  },
  {
   "cell_type": "code",
   "execution_count": 60,
   "metadata": {},
   "outputs": [],
   "source": [
    "predictions = model(indexed_text1)"
   ]
  },
  {
   "cell_type": "code",
   "execution_count": 61,
   "metadata": {},
   "outputs": [
    {
     "data": {
      "text/plain": [
       "'she'"
      ]
     },
     "execution_count": 61,
     "metadata": {},
     "output_type": "execute_result"
    }
   ],
   "source": [
    "tokenizer.ids_to_tokens[tf.argmax(predictions[0][0][masked_token_idx]).numpy()]"
   ]
  },
  {
   "cell_type": "code",
   "execution_count": 63,
   "metadata": {},
   "outputs": [
    {
     "data": {
      "text/plain": [
       "(<tf.Tensor: id=20059, shape=(), dtype=float32, numpy=10.381319>,\n",
       " <tf.Tensor: id=20063, shape=(), dtype=float32, numpy=11.248615>)"
      ]
     },
     "execution_count": 63,
     "metadata": {},
     "output_type": "execute_result"
    }
   ],
   "source": [
    "return_proba_he_she(predictions[0][0][masked_token_idx])"
   ]
  },
  {
   "cell_type": "code",
   "execution_count": 64,
   "metadata": {},
   "outputs": [
    {
     "data": {
      "text/plain": [
       "'she'"
      ]
     },
     "execution_count": 64,
     "metadata": {},
     "output_type": "execute_result"
    }
   ],
   "source": [
    "predictions = model(indexed_text2)\n",
    "tokenizer.ids_to_tokens[tf.argmax(predictions[0][0][masked_token_idx]).numpy()]"
   ]
  },
  {
   "cell_type": "code",
   "execution_count": 65,
   "metadata": {},
   "outputs": [
    {
     "data": {
      "text/plain": [
       "(9.511881, 11.902976)"
      ]
     },
     "execution_count": 65,
     "metadata": {},
     "output_type": "execute_result"
    }
   ],
   "source": [
    "return_proba_he_she(predictions[0][0][masked_token_idx].numpy())"
   ]
  },
  {
   "cell_type": "code",
   "execution_count": 58,
   "metadata": {},
   "outputs": [
    {
     "data": {
      "text/plain": [
       "2016"
      ]
     },
     "execution_count": 58,
     "metadata": {},
     "output_type": "execute_result"
    }
   ],
   "source": [
    "tokenizer.convert_tokens_to_ids('she')"
   ]
  },
  {
   "cell_type": "code",
   "execution_count": 59,
   "metadata": {},
   "outputs": [],
   "source": [
    "def return_proba_he_she(preds):\n",
    "    she_id = tokenizer.convert_tokens_to_ids('she')\n",
    "    he_id = tokenizer.convert_tokens_to_ids('he')\n",
    "    return (preds[he_id], preds[she_id])\n",
    "    "
   ]
  },
  {
   "cell_type": "code",
   "execution_count": 68,
   "metadata": {},
   "outputs": [],
   "source": [
    "predictions = model(indexed_text3)"
   ]
  },
  {
   "cell_type": "code",
   "execution_count": 70,
   "metadata": {},
   "outputs": [
    {
     "data": {
      "text/plain": [
       "<tf.Tensor: id=22253, shape=(1, 15), dtype=int32, numpy=\n",
       "array([[ 101, 1996, 6821, 2056, 2008,  103, 2052, 2022, 4039, 2000, 7438,\n",
       "        1996, 5776, 1012,  102]], dtype=int32)>"
      ]
     },
     "execution_count": 70,
     "metadata": {},
     "output_type": "execute_result"
    }
   ],
   "source": [
    "indexed_text3"
   ]
  },
  {
   "cell_type": "code",
   "execution_count": 69,
   "metadata": {},
   "outputs": [
    {
     "name": "stdout",
     "output_type": "stream",
     "text": [
      ".\n",
      "the\n",
      "nurse\n",
      "said\n",
      "that\n",
      "she\n",
      "would\n",
      "be\n",
      "unable\n",
      "to\n",
      "treat\n",
      "the\n",
      "patient\n",
      ".\n",
      "she\n"
     ]
    }
   ],
   "source": [
    "for i in range(len(predictions[0][0])):\n",
    "    print(tokenizer.ids_to_tokens[tf.argmax(predictions[0][0][i]).numpy()])"
   ]
  },
  {
   "cell_type": "code",
   "execution_count": 72,
   "metadata": {},
   "outputs": [
    {
     "data": {
      "text/plain": [
       "(10.50092, 12.303568)"
      ]
     },
     "execution_count": 72,
     "metadata": {},
     "output_type": "execute_result"
    }
   ],
   "source": [
    "return_proba_he_she(predictions[0][0][5].numpy())"
   ]
  },
  {
   "cell_type": "code",
   "execution_count": 52,
   "metadata": {},
   "outputs": [
    {
     "name": "stdout",
     "output_type": "stream",
     "text": [
      ".\n",
      "the\n",
      "nurse\n",
      "was\n",
      "treating\n",
      "the\n",
      "patient\n",
      "because\n",
      "she\n",
      "was\n",
      "caring\n",
      ".\n",
      ",\n"
     ]
    }
   ],
   "source": [
    "for i in range(len(predictions[0][0])):\n",
    "    print(tokenizer.ids_to_tokens[tf.argmax(predictions[0][0][i]).numpy()])"
   ]
  },
  {
   "cell_type": "code",
   "execution_count": 53,
   "metadata": {},
   "outputs": [
    {
     "name": "stdout",
     "output_type": "stream",
     "text": [
      ".\n",
      "the\n",
      "nurse\n",
      "was\n",
      "treating\n",
      "the\n",
      "patient\n",
      "because\n",
      "she\n",
      "was\n",
      "screaming\n",
      ".\n",
      "she\n"
     ]
    }
   ],
   "source": [
    "predictions = model(indexed_text1)\n",
    "for i in range(len(predictions[0][0])):\n",
    "    print(tokenizer.ids_to_tokens[tf.argmax(predictions[0][0][i]).numpy()])"
   ]
  },
  {
   "cell_type": "code",
   "execution_count": 73,
   "metadata": {},
   "outputs": [],
   "source": [
    "text = \"the doctor said that [MASK] would be unable to make the meeting.\"\n",
    "indexed_text = tokenizer.encode(text, add_special_tokens=True, return_tensors='tf')"
   ]
  },
  {
   "cell_type": "code",
   "execution_count": 81,
   "metadata": {},
   "outputs": [
    {
     "data": {
      "text/plain": [
       "'he'"
      ]
     },
     "execution_count": 81,
     "metadata": {},
     "output_type": "execute_result"
    }
   ],
   "source": [
    "predictions = model(indexed_text)\n",
    "masked_token_idx = 5\n",
    "tokenizer.ids_to_tokens[tf.argmax(predictions[0][0][masked_token_idx]).numpy()]"
   ]
  },
  {
   "cell_type": "code",
   "execution_count": 84,
   "metadata": {},
   "outputs": [],
   "source": [
    "def encode_sentence(sentence):\n",
    "    # assuming we have things in global namespace, y'know\n",
    "    # maybe make this in a class\n",
    "    # NOTE that this olnly works on nominative, for now\n",
    "    masked_idx = None\n",
    "    POS = \"nom\"\n",
    "    gendered_pronouns = ['he', 'she', 'his', 'hers', 'him', 'her']\n",
    "    tokenized = tokenizer.tokenize(sentence)\n",
    "    for i, word in enumerate(tokenized):\n",
    "        if word in gendered_pronouns:\n",
    "            tokenized[i] = \"<MASK>\"\n",
    "            masked_idx = i\n",
    "            break\n",
    "    else:\n",
    "        print('no gendered pronoun found')\n",
    "    indexed_text = tokenizer.encode(tokenized, add_special_tokens=True, return_tensors='tf')\n",
    "    return (indexed_text, masked_idx)\n",
    "        "
   ]
  },
  {
   "cell_type": "code",
   "execution_count": 97,
   "metadata": {},
   "outputs": [],
   "source": [
    "def get_gendered_proba(sentence):\n",
    "    encoded_sent, masked_idx = encode_sentence(sentence)\n",
    "    predictions = model(encoded_sent)[0]\n",
    "    she_id = tokenizer.convert_tokens_to_ids('she')\n",
    "    he_id = tokenizer.convert_tokens_to_ids('he')\n",
    "    he_pred = predictions[0][masked_idx][he_id]\n",
    "    she_pred = predictions[0][masked_idx][she_id]\n",
    "    result = {'he': he_pred.numpy(), 'she': she_pred.numpy()}\n",
    "    return result"
   ]
  },
  {
   "cell_type": "code",
   "execution_count": 103,
   "metadata": {},
   "outputs": [
    {
     "name": "stdout",
     "output_type": "stream",
     "text": [
      "{'he': 6.283627, 'she': 4.4278617}\n",
      "{'he': 5.171795, 'she': 8.403804}\n"
     ]
    }
   ],
   "source": [
    "print(get_gendered_proba(\"The doctor said that he would see the patient soon.\"))\n",
    "print(get_gendered_proba(\"The nurse said that she would see the patient soon.\"))"
   ]
  },
  {
   "cell_type": "code",
   "execution_count": 104,
   "metadata": {},
   "outputs": [
    {
     "data": {
      "text/plain": [
       "{'he': 5.903131, 'she': 4.1146965}"
      ]
     },
     "execution_count": 104,
     "metadata": {},
     "output_type": "execute_result"
    }
   ],
   "source": [
    "get_gendered_proba('The computer scientist said that he would not be able to attend the conferenece.')"
   ]
  }
 ],
 "metadata": {
  "kernelspec": {
   "display_name": "Python [conda env:tensorflow]",
   "language": "python",
   "name": "conda-env-tensorflow-py"
  },
  "language_info": {
   "codemirror_mode": {
    "name": "ipython",
    "version": 3
   },
   "file_extension": ".py",
   "mimetype": "text/x-python",
   "name": "python",
   "nbconvert_exporter": "python",
   "pygments_lexer": "ipython3",
   "version": "3.7.5"
  }
 },
 "nbformat": 4,
 "nbformat_minor": 2
}
