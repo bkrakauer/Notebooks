{
 "cells": [
  {
   "cell_type": "code",
   "execution_count": 1,
   "metadata": {},
   "outputs": [],
   "source": [
    "import tensorflow as tf\n",
    "import numpy as np\n",
    "import transformers"
   ]
  },
  {
   "cell_type": "code",
   "execution_count": 2,
   "metadata": {},
   "outputs": [],
   "source": [
    "# first, load the tokenizer and bert model\n",
    "tokenizer = transformers.BertTokenizer.from_pretrained('bert-base-uncased')\n",
    "model = transformers.TFBertForMaskedLM.from_pretrained('bert-base-uncased')"
   ]
  },
  {
   "cell_type": "code",
   "execution_count": 3,
   "metadata": {},
   "outputs": [],
   "source": [
    "def encode_sentence(sentence):\n",
    "    # assuming we have things in global namespace, y'know\n",
    "    # maybe make this in a class\n",
    "    # NOTE that this olnly works on nominative, for now\n",
    "    masked_idx = None\n",
    "    POS = \"nom\"\n",
    "    gendered_pronouns = ['he', 'she', 'his', 'hers', 'him', 'her']\n",
    "    tokenized = tokenizer.tokenize(sentence)\n",
    "    for i, word in enumerate(tokenized):\n",
    "        if word in gendered_pronouns:\n",
    "            tokenized[i] = \"<MASK>\"\n",
    "            masked_idx = i\n",
    "            break\n",
    "    else:\n",
    "        print('no gendered pronoun found')\n",
    "    indexed_text = tokenizer.encode(tokenized, add_special_tokens=True, return_tensors='tf')\n",
    "    return (indexed_text, masked_idx)\n",
    "        "
   ]
  },
  {
   "cell_type": "code",
   "execution_count": 4,
   "metadata": {},
   "outputs": [],
   "source": [
    "def get_gendered_proba(sentence):\n",
    "    encoded_sent, masked_idx = encode_sentence(sentence)\n",
    "    predictions = model(encoded_sent)[0]\n",
    "    she_id = tokenizer.convert_tokens_to_ids('she')\n",
    "    he_id = tokenizer.convert_tokens_to_ids('he')\n",
    "    he_pred = predictions[0][masked_idx][he_id]\n",
    "    she_pred = predictions[0][masked_idx][she_id]\n",
    "    result = {'he': he_pred.numpy(), 'she': she_pred.numpy()}\n",
    "    return result"
   ]
  },
  {
   "cell_type": "code",
   "execution_count": 5,
   "metadata": {},
   "outputs": [
    {
     "name": "stdout",
     "output_type": "stream",
     "text": [
      "{'he': 6.283627, 'she': 4.4278617}\n",
      "{'he': 5.171795, 'she': 8.403804}\n"
     ]
    }
   ],
   "source": [
    "print(get_gendered_proba(\"The doctor said that he would see the patient soon.\"))\n",
    "print(get_gendered_proba(\"The nurse said that she would see the patient soon.\"))"
   ]
  },
  {
   "cell_type": "code",
   "execution_count": 6,
   "metadata": {},
   "outputs": [
    {
     "data": {
      "text/plain": [
       "{'he': 5.903131, 'she': 4.1146965}"
      ]
     },
     "execution_count": 6,
     "metadata": {},
     "output_type": "execute_result"
    }
   ],
   "source": [
    "get_gendered_proba('The computer scientist said that he would not be able to attend the conferenece.')"
   ]
  },
  {
   "cell_type": "code",
   "execution_count": 7,
   "metadata": {},
   "outputs": [
    {
     "name": "stdout",
     "output_type": "stream",
     "text": [
      "{'he': 2.4166522, 'she': 2.3275607}\n",
      "{'he': 1.6144898, 'she': 0.71734834}\n"
     ]
    }
   ],
   "source": [
    "print(get_gendered_proba(\"The nurse treated the patient because she was caring.\"))\n",
    "print(get_gendered_proba(\"The nurse treated the patient because she was screaming.\"))"
   ]
  }
 ],
 "metadata": {
  "kernelspec": {
   "display_name": "Python [conda env:tensorflow]",
   "language": "python",
   "name": "conda-env-tensorflow-py"
  },
  "language_info": {
   "codemirror_mode": {
    "name": "ipython",
    "version": 3
   },
   "file_extension": ".py",
   "mimetype": "text/x-python",
   "name": "python",
   "nbconvert_exporter": "python",
   "pygments_lexer": "ipython3",
   "version": "3.7.5"
  }
 },
 "nbformat": 4,
 "nbformat_minor": 2
}
