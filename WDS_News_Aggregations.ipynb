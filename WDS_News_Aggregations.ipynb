{
 "cells": [
  {
   "cell_type": "code",
   "execution_count": 1,
   "metadata": {
    "collapsed": true
   },
   "outputs": [],
   "source": [
    "from collections import Counter\n",
    "import json\n",
    "import os\n",
    "import pandas\n",
    "import numpy\n",
    "import re\n",
    "import requests\n",
    "import matplotlib.pyplot as plt\n",
    "from watson_developer_cloud import DiscoveryV1\n",
    "\n",
    "%matplotlib inline"
   ]
  },
  {
   "cell_type": "markdown",
   "metadata": {},
   "source": [
    "## 1. Setup"
   ]
  },
  {
   "cell_type": "markdown",
   "metadata": {},
   "source": [
    "Here, we are just setting up the credentials for our WDS service. Note that the version is the most recent version as of the creation of this notebook (5/10/18)."
   ]
  },
  {
   "cell_type": "code",
   "execution_count": 2,
   "metadata": {
    "collapsed": true
   },
   "outputs": [],
   "source": [
    "# CREDENTIALS FOR THE DISCOVERY-WEXP INSTANCE\n",
    "\n",
    "my_credentials = {\n",
    "  \"url\": \"https://gateway.watsonplatform.net/discovery/api\",\n",
    "  \"username\": \"REDACTED\"\n",
    "  \"password\": \"REDACTED\"\n",
    "}"
   ]
  },
  {
   "cell_type": "code",
   "execution_count": 4,
   "metadata": {},
   "outputs": [],
   "source": [
    "discovery = DiscoveryV1(\n",
    "  username=my_credentials[\"username\"],\n",
    "  password=my_credentials[\"password\"],\n",
    "  version=\"2018-03-05\"\n",
    "  #version=\"2017-11-07\"\n",
    ")\n"
   ]
  },
  {
   "cell_type": "markdown",
   "metadata": {},
   "source": [
    "For all entity types, see https://console.bluemix.net/docs/services/natural-language-understanding/entity-types.html#entity-types-and-subtypes\n",
    "\n",
    "For the category hierarchym see https://console.bluemix.net/docs/services/natural-language-understanding/categories.html#categories-hierarchy\n",
    "\n",
    "For the relation types, see https://console.bluemix.net/docs/services/natural-language-understanding/relations-v1.html#relation-types-version-1-"
   ]
  },
  {
   "cell_type": "markdown",
   "metadata": {},
   "source": [
    "## 2. \n",
    "\n",
    "## Experiment: Steel and Aluminum (Tariffs, etc)"
   ]
  },
  {
   "cell_type": "markdown",
   "metadata": {},
   "source": [
    "These queries were inspired by the question of what we can learn in the news about steel and aluminum (and wheter we can surface any insight about potential tariffs). At this point, much of the news about tariffs has moved on, but the queries themselves are still worth looking at.\n",
    "\n",
    "A couple things to note about the query:\n",
    "\n",
    "+ It sometimes helps to look into \"enriched title\" rather than \"enriched text\", if you're getting more irrelevant results. That way, we'll only return articles that have the name of the commodity in the title; we might miss out on some articles that mention that commodity in passing, but this generally seems to be a tradeoff worth making for pretty common commodities\n",
    "+ Note that we've used the single colon ':', rather than the double '::'. The single colon means 'includes' (and is case insensitive). There may be times you want an exact match, however, since a commodity name may be a part of some other word (like Ore and Oregon).\n",
    "+ The aggregation terms here are set up because we don't just want to look at some news articles, but we want to look at facilities; facility is an entity type that Watson recognizes. What the aggregation query below is saying is: Give me the entities that are filtered so that their type is an exact match of \"Facility\"; give me the name of that entity, up to thirty results.\n",
    "\n",
    "See https://console.bluemix.net/docs/services/discovery/query-reference.html#query-reference"
   ]
  },
  {
   "cell_type": "markdown",
   "metadata": {},
   "source": [
    "Some further thoughts about queries:\n",
    "\n",
    "+ Some commodoties will have too many results, many of which are irrelevant. To improve precision, you can narrow down what you're getting back by looking at the title of the article rather than its body, and by further filtering the results by some restricting the concept of the article (further down the page, there's an example where we filter by concept \"industry\".\n",
    "\n",
    "+ Some commodities will have too few results. To improve recall, broaden the search: look in the article body, and if necessary, simply search for the word or phrase itself rather than looking through enriched_text (these searches are used toward the bottom of this document).\n",
    "\n",
    "+ You can also consider adding a filter to your search for words like \"futures\", \"market\", or \"index\" if you want to only find articles that refer to financial markets with respect to that commodity."
   ]
  },
  {
   "cell_type": "code",
   "execution_count": 14,
   "metadata": {},
   "outputs": [
    {
     "name": "stdout",
     "output_type": "stream",
     "text": [
      "Facility: Liberty House                                      Results: 53\n",
      "Facility: Burns Waterway                                     Results: 33\n",
      "Facility: White House                                        Results: 32\n",
      "Facility: Ajaokuta Steel Complex                             Results: 21\n",
      "Facility: Bethlehem Steel FC                                 Results: 16\n",
      "Facility: Cintas Center                                      Results: 16\n",
      "Facility: Fort Wayne                                         Results: 15\n",
      "Facility: Indiana Dunes National Lakeshore                   Results: 14\n",
      "Facility: Fort McCoy                                         Results: 13\n",
      "Facility: Goodman Stadium                                    Results: 12\n",
      "Facility: Coachella Valley Music & Arts Festival             Results: 11\n",
      "Facility: Trump Tower                                        Results: 10\n",
      "Facility: EL Ezz Aldekhela Steel                             Results: 9\n",
      "Facility: Pennsylvania Convention Center                     Results: 9\n",
      "Facility: Vivian Park                                        Results: 9\n",
      "Facility: Competitive Landscape                              Results: 8\n",
      "Facility: Steel Bridge                                       Results: 8\n",
      "Facility: Steel FC                                           Results: 8\n",
      "Facility: Steel River Playhouse                              Results: 8\n",
      "Facility: The Company Theatre                                Results: 8\n",
      "Facility: Asia Pacific                                       Results: 7\n",
      "Facility: Ma Anand Sheela                                    Results: 7\n",
      "Facility: Midwest Plant                                      Results: 7\n",
      "Facility: St. John Bosco                                     Results: 7\n",
      "Facility: Brooklyn Steel                                     Results: 6\n",
      "Facility: First Presbyterian Church of Pottstown             Results: 6\n",
      "Facility: Louisville City FC                                 Results: 6\n",
      "Facility: Olympic Steel Olympic Steel                        Results: 6\n",
      "Facility: Sydney Opera House                                 Results: 6\n",
      "Facility: Twin Towers                                        Results: 6\n"
     ]
    }
   ],
   "source": [
    "qopts = {}\n",
    "qopts[\"query\"] = 'enriched_title.entities.text:\"steel\"'\n",
    "qopts[\"aggregation\"] = '[nested(enriched_text.entities).filter(enriched_text.entities.type::\"Facility\").term(enriched_text.entities.text,count:30)]'\n",
    "results = discovery.query('system', 'news', **qopts)\n",
    "\n",
    "for line in results['aggregations'][0]['aggregations'][0]['aggregations'][0]['results']:\n",
    "    print (\"Facility: {:50} Results: {}\".format(line['key'], line['matching_results']))  "
   ]
  },
  {
   "cell_type": "markdown",
   "metadata": {},
   "source": [
    "### As an aside: if you don't want to use the Python API, you don't have to. You can send your query as a get request, like this:"
   ]
  },
  {
   "cell_type": "code",
   "execution_count": 15,
   "metadata": {
    "collapsed": true
   },
   "outputs": [],
   "source": [
    "r = requests.get('https://gateway.watsonplatform.net/discovery/api/v1/environments/system/collections/news-en/query?version=2017-11-07&aggregation=nested%28enriched_text.entities%29.filter%28enriched_text.entities.disambiguation.subtype%3A%22Person%22%29.term%28enriched_text.entities.text%2Ccount%3A10%29&deduplicate=false&highlight=true&passages=true&passages.count=5&query=enriched_text.entities.text%3A%22IBM%22', auth=('19787ef7-8ecd-4ad0-aa57-b3a31ace11d4', 'AQ0Ncx8QQkic'))"
   ]
  },
  {
   "cell_type": "code",
   "execution_count": 24,
   "metadata": {},
   "outputs": [
    {
     "data": {
      "text/plain": [
       "[{'key': 'Deutsche Bank', 'matching_results': 48},\n",
       " {'key': 'PBS', 'matching_results': 20},\n",
       " {'key': 'Deutsche Bank AG', 'matching_results': 18},\n",
       " {'key': 'Deere & Company', 'matching_results': 17},\n",
       " {'key': 'FIFA', 'matching_results': 15},\n",
       " {'key': 'GGV Capital', 'matching_results': 13},\n",
       " {'key': 'Louis Vuitton', 'matching_results': 13},\n",
       " {'key': 'Deere & Co.', 'matching_results': 6},\n",
       " {'key': 'Warner Bros', 'matching_results': 6},\n",
       " {'key': 'Allen Institute for Artificial Intelligence', 'matching_results': 5}]"
      ]
     },
     "execution_count": 24,
     "metadata": {},
     "output_type": "execute_result"
    }
   ],
   "source": [
    "r_json = json.loads(r.content)\n",
    "r_json['aggregations'][0]['aggregations'][0]['aggregations'][0]['results']"
   ]
  },
  {
   "cell_type": "markdown",
   "metadata": {},
   "source": [
    "In the next query, we want to find the companies in the news about steel.\n",
    "\n",
    "Note that the search is the same -- we're still looking for 'steel' as contained in the title.\n",
    "The aggregation is similar -- our filter on entities is now for type \"Company\", but everything else is the same."
   ]
  },
  {
   "cell_type": "code",
   "execution_count": 28,
   "metadata": {},
   "outputs": [
    {
     "name": "stdout",
     "output_type": "stream",
     "text": [
      "Company: NYSE                                               Results: 801\n",
      "Company: Tata Steel                                         Results: 575\n",
      "Company: ArcelorMittal                                      Results: 549\n",
      "Company: Reuters                                            Results: 513\n",
      "Company: Essar Steel                                        Results: 483\n",
      "Company: MarketBeat.com                                     Results: 465\n",
      "Company: Zacks Investment Research                          Results: 381\n",
      "Company: Goldman Sachs                                      Results: 372\n",
      "Company: JSW Steel                                          Results: 321\n",
      "Company: Bank of America                                    Results: 305\n",
      "Company: ValuEngine                                         Results: 297\n",
      "Company: Numetal                                            Results: 288\n",
      "Company: AK Steel Holding Corporation                       Results: 269\n",
      "Company: Schnitzer Steel Industries                         Results: 255\n",
      "Company: Longbow Research                                   Results: 248\n",
      "Company: United States Steel Corporation                    Results: 226\n",
      "Company: Reliance Steel                                     Results: 214\n",
      "Company: Nippon Steel                                       Results: 205\n",
      "Company: BidaskClub                                         Results: 196\n",
      "Company: Reliance Steel & Aluminum                          Results: 191\n",
      "Company: Steel Dynamics                                     Results: 191\n",
      "Company: Bhushan Steel                                      Results: 187\n",
      "Company: Schnitzer Steel Industries, Inc.                   Results: 171\n",
      "Company: Jefferies Group                                    Results: 169\n",
      "Company: Steel Manufacturing Business                       Results: 160\n",
      "Company: AMR                                                Results: 159\n",
      "Company: Deutsche Bank                                      Results: 156\n",
      "Company: The Lincolnian Online                              Results: 142\n",
      "Company: Thomson                                            Results: 127\n",
      "Company: Facebook                                           Results: 119\n"
     ]
    }
   ],
   "source": [
    "qopts = {}\n",
    "qopts[\"query\"] = 'enriched_title.entities.text:\"steel\"'\n",
    "qopts[\"aggregation\"] = '[nested(enriched_text.entities).filter(enriched_text.entities.type::\"Company\").term(enriched_text.entities.text,count:30)]'\n",
    "results = discovery.query('system', 'news', **qopts)\n",
    "\n",
    "for line in results['aggregations'][0]['aggregations'][0]['aggregations'][0]['results']:\n",
    "    print (\"Company: {:50} Results: {}\".format(line['key'], line['matching_results']))"
   ]
  },
  {
   "cell_type": "markdown",
   "metadata": {},
   "source": [
    "Now, we're looking for locations in the news.\n",
    "\n",
    "The query is the same, except we're now filtering entities for type \"Location.\""
   ]
  },
  {
   "cell_type": "code",
   "execution_count": 31,
   "metadata": {},
   "outputs": [
    {
     "name": "stdout",
     "output_type": "stream",
     "text": [
      "Location: United States                  Results: 995\n",
      "Location: India                          Results: 634\n",
      "Location: Europe                         Results: 576\n",
      "Location: US                             Results: 562\n",
      "Location: North America                  Results: 552\n",
      "Location: China                          Results: 469\n",
      "Location: U.S.                           Results: 461\n",
      "Location: Canada                         Results: 347\n",
      "Location: Japan                          Results: 342\n",
      "Location: Mexico                         Results: 330\n",
      "Location: Ohio                           Results: 310\n",
      "Location: Russia                         Results: 290\n",
      "Location: Indiana                        Results: 238\n",
      "Location: Pennsylvania                   Results: 220\n",
      "Location: Australia                      Results: 206\n",
      "Location: Ahmedabad                      Results: 181\n",
      "Location: California                     Results: 153\n",
      "Location: Mumbai                         Results: 145\n",
      "Location: UK                             Results: 144\n",
      "Location: Germany                        Results: 140\n",
      "Location: Kentucky                       Results: 135\n",
      "Location: Brazil                         Results: 132\n",
      "Location: New York                       Results: 129\n",
      "Location: France                         Results: 124\n",
      "Location: Michigan                       Results: 120\n",
      "Location: Asia                           Results: 116\n",
      "Location: South Korea                    Results: 116\n",
      "Location: America                        Results: 112\n",
      "Location: Texas                          Results: 110\n",
      "Location: West Virginia                  Results: 110\n"
     ]
    }
   ],
   "source": [
    "qopts = {}\n",
    "qopts[\"query\"] = 'enriched_title.entities.text:\"steel\"'\n",
    "qopts[\"aggregation\"] = '[nested(enriched_text.entities).filter(enriched_text.entities.type::\"Location\").term(enriched_text.entities.text,count:30)]'\n",
    "results = discovery.query('system', 'news', **qopts)\n",
    "\n",
    "for line in results['aggregations'][0]['aggregations'][0]['aggregations'][0]['results']:\n",
    "    print (\"Location: {:30} Results: {}\".format(line['key'], line['matching_results']))"
   ]
  },
  {
   "cell_type": "markdown",
   "metadata": {
    "collapsed": true
   },
   "source": [
    "## Drill down from that query to find news about some particular region..."
   ]
  },
  {
   "cell_type": "markdown",
   "metadata": {},
   "source": [
    "The next search is getting a bit more specific: We are searching the title of the article for 'steel' and the text of the article for 'canada' to do a search about news in Canada.\n",
    "\n",
    "We also have an aggregation to look at locations which we can look at as well.\n",
    "\n",
    "Also note that, in addition, we are limiting to 30 results, and we are de-duplicating results. "
   ]
  },
  {
   "cell_type": "code",
   "execution_count": 35,
   "metadata": {
    "collapsed": true
   },
   "outputs": [],
   "source": [
    "qopts = {}\n",
    "qopts[\"query\"] = 'enriched_title.entities.text:\"Steel\",enriched_text.entities.text:\"canada\"'\n",
    "qopts[\"aggregation\"] = '[nested(enriched_text.entities).filter(enriched_text.entities.type::\"Location\").term(enriched_text.entities.text,count:30)]'\n",
    "qopts[\"count\"] = 30\n",
    "qopts[\"deduplicate\"] = True\n",
    "\n",
    "results = discovery.query('system', 'news', **qopts)\n"
   ]
  },
  {
   "cell_type": "code",
   "execution_count": 36,
   "metadata": {},
   "outputs": [
    {
     "name": "stdout",
     "output_type": "stream",
     "text": [
      "Steel News http://www.aist.org/news/steel-news/2018/may-(1)/6-11-may-2018/arcelormittal-dofasco-plans-hot-mill-upgrades\n",
      "Trudeau Steel http://news.naver.com/main/read.nhn?oid=077&aid=0004071877\n",
      "To boldly go: Italgem Steel takes jewellery where no man has gone before https://www.jewellerybusiness.com/features/to-boldly-go-italgem-steel-takes-jewellery-where-no-man-has-gone-before/\n",
      "Reps block concession of Ajaokuta Steel http://nigeria.shafaqna.com/EN/NG/5276374\n",
      "New Head Of Scandal-Hit Kobe Steel May Seek Mergers For Some Business Units https://www.longroom.com/discussion/934667/new-head-of-scandal-hit-kobe-steel-may-seek-mergers-for-some-business-units\n",
      "Canada Steel http://news.naver.com/main/read.nhn?oid=077&aid=0004072128\n",
      "Why tariffs on steel and aluminium are easier said than done - Steel banned https://www.economist.com/news/finance-and-economics/21739164-history-offers-some-tough-lessons-why-tariffs-steel-and-aluminium-are-easier?fsrc=rss\n",
      "Federal and provincial governments support new equipment at Max Steel http://www2.gnb.ca:80/content/gnb/en/news/news_release.2018.03.0265.html\n",
      "Trudeau Steel 뉴스 http://news.naver.com/main/read.nhn?oid=077&aid=0004071864\n",
      "Financial Comparison: OMNI-LITE INDS CAN (OLNCF) and Reliance Steel & Aluminum (RS) https://ledgergazette.com/2018/04/11/reliance-steel-aluminum-rs-and-omni-lite-inds-can-olncf-critical-survey.html\n",
      "Steel group says to keep steel tariffs ‘strong’ https://www.tsln.com/news/steel-group-urges-keeping-steel-tariffs-strong/\n",
      "Equipment Industry Calls for Permanent Tariff Exemption for Canadian Steel https://www.constructionequipmentguide.com/equipment-industry-calls-for-permanent-tariff-exemption-for-canadian-steel/40013\n",
      "Trump Steel & Aluminium Tariffs Not Expected to Majorly Impact Jamaica http://nationwideradiojm.com/trump-steel-aluminium-tariffs-not-expected-to-majorly-impact-jamaica/\n",
      "Ex-All Black, MP Tony Steel dies https://www.odt.co.nz/sport/rugby/ex-all-black-mp-tony-steel-dies\n",
      "Former All Black and National MP Tony Steel dies aged 76 https://www.nzherald.co.nz/sport/news/article.cfm?c_id=4&objectid=12045302\n",
      "OMNI-LITE INDS CAN (OLNCF) and Reliance Steel & Aluminum (RS) Financial Comparison https://www.tickerreport.com/banking-finance/3305704/omni-lite-inds-can-olncf-and-reliance-steel-aluminum-rs-financial-comparison.html\n",
      "AK Steel Announces First Quarter 2018 Financial Results https://www.benzinga.com/pressreleases/18/04/g11603023/ak-steel-announces-first-quarter-2018-financial-results\n",
      "AK Steel’s Middletown Works and Mountain State Carbon Coke Plants Recognized for Outstanding Safety Performance https://globenewswire.com/news-release/2018/05/09/1499771/0/en/AK-Steel-s-Middletown-Works-and-Mountain-State-Carbon-Coke-Plants-Recognized-for-Outstanding-Safety-Performance.html\n"
     ]
    }
   ],
   "source": [
    "for result in results['results']:\n",
    "    print (result['title'], result['url'])"
   ]
  },
  {
   "cell_type": "markdown",
   "metadata": {},
   "source": [
    "Let's look at the locations that show up in this search..."
   ]
  },
  {
   "cell_type": "code",
   "execution_count": 40,
   "metadata": {},
   "outputs": [
    {
     "data": {
      "text/plain": [
       "{'count': 30,\n",
       " 'field': 'enriched_text.entities.text',\n",
       " 'results': [{'key': 'Canada', 'matching_results': 353},\n",
       "  {'key': 'United States', 'matching_results': 245},\n",
       "  {'key': 'Mexico', 'matching_results': 197},\n",
       "  {'key': 'North America', 'matching_results': 175},\n",
       "  {'key': 'China', 'matching_results': 138},\n",
       "  {'key': 'Australia', 'matching_results': 122},\n",
       "  {'key': 'Europe', 'matching_results': 105},\n",
       "  {'key': 'France', 'matching_results': 99},\n",
       "  {'key': 'South Korea', 'matching_results': 85},\n",
       "  {'key': 'Japan', 'matching_results': 76},\n",
       "  {'key': 'South America', 'matching_results': 70},\n",
       "  {'key': 'Turkey', 'matching_results': 64},\n",
       "  {'key': 'Brazil', 'matching_results': 63},\n",
       "  {'key': 'U.S.', 'matching_results': 60},\n",
       "  {'key': 'Malaysia', 'matching_results': 56},\n",
       "  {'key': 'Belgium', 'matching_results': 53},\n",
       "  {'key': 'Germany', 'matching_results': 52},\n",
       "  {'key': 'United Kingdom', 'matching_results': 52},\n",
       "  {'key': 'India', 'matching_results': 51},\n",
       "  {'key': 'Oregon', 'matching_results': 51},\n",
       "  {'key': 'United Arab Emirates', 'matching_results': 51},\n",
       "  {'key': 'Ohio', 'matching_results': 49},\n",
       "  {'key': 'Russia', 'matching_results': 47},\n",
       "  {'key': 'UK', 'matching_results': 44},\n",
       "  {'key': 'Portland', 'matching_results': 43},\n",
       "  {'key': 'Western Canada', 'matching_results': 43},\n",
       "  {'key': 'Louisiana', 'matching_results': 42},\n",
       "  {'key': 'Africa', 'matching_results': 41},\n",
       "  {'key': 'Argentina', 'matching_results': 40},\n",
       "  {'key': 'Covington', 'matching_results': 40}],\n",
       " 'type': 'term'}"
      ]
     },
     "execution_count": 40,
     "metadata": {},
     "output_type": "execute_result"
    }
   ],
   "source": [
    "results['aggregations'][0]['aggregations'][0]['aggregations'][0]"
   ]
  },
  {
   "cell_type": "markdown",
   "metadata": {},
   "source": [
    "## What are the sentiment results by country?"
   ]
  },
  {
   "cell_type": "markdown",
   "metadata": {},
   "source": [
    "We also get sentiment results from the news; we can drill down and get particular sentiment scores.\n",
    "\n",
    "We have still have the same query for steel, and we're looking at an aggregation that pulls together entities of type 'location', and looking at the average sentiment score for those results by location."
   ]
  },
  {
   "cell_type": "code",
   "execution_count": 56,
   "metadata": {
    "collapsed": true
   },
   "outputs": [],
   "source": [
    "qopts = {}\n",
    "qopts[\"query\"] = 'enriched_title.entities.text:\"steel\"'\n",
    "qopts[\"aggregation\"] = 'nested(enriched_text.entities).filter(enriched_text.entities.type::\"Location\").term(enriched_text.entities.text,count:10).average(enriched_text.entities.sentiment.score)'\n",
    "qopts[\"count\"] = 50\n",
    "qopts[\"deduplicate\"] = True\n",
    "results = discovery.query('system', 'news', **qopts)\n"
   ]
  },
  {
   "cell_type": "code",
   "execution_count": 59,
   "metadata": {},
   "outputs": [
    {
     "name": "stdout",
     "output_type": "stream",
     "text": [
      "United States                 :-0.12164606495983935\n",
      "India                         :0.009387370300157974\n",
      "Europe                        :0.014634436933797915\n",
      "US                            :-0.1527344951612903\n",
      "North America                 :0.05528536813186816\n",
      "China                         :0.12378767221006566\n",
      "U.S.                          :-0.20023959686098655\n",
      "Canada                        :-0.03822385495495495\n",
      "Japan                         :-0.0650687983974359\n",
      "Mexico                        :-0.01869098263665595\n"
     ]
    }
   ],
   "source": [
    "for r in results['aggregations'][0]['aggregations'][0]['aggregations'][0]['results']:\n",
    "    print (\"{:30}:{}\".format(r['key'], r['aggregations'][0]['value']))"
   ]
  },
  {
   "cell_type": "markdown",
   "metadata": {},
   "source": [
    "## Run through some countries and get some summary stats"
   ]
  },
  {
   "cell_type": "code",
   "execution_count": 66,
   "metadata": {},
   "outputs": [],
   "source": [
    "qopts = {}\n",
    "qopts[\"query\"] = 'enriched_title.entities.text:\"steel\"'\n",
    "qopts[\"aggregation\"] = '[nested(enriched_text.entities).filter(enriched_text.entities.type::\"Location\").term(enriched_text.entities.text,count:15)]'\n",
    "results = discovery.query('system', 'news', **qopts)\n",
    "\n",
    "countries = []\n",
    "for line in results['aggregations'][0]['aggregations'][0]['aggregations'][0]['results']:\n",
    "    countries.append(line['key'])"
   ]
  },
  {
   "cell_type": "code",
   "execution_count": 68,
   "metadata": {},
   "outputs": [
    {
     "name": "stdout",
     "output_type": "stream",
     "text": [
      "United States:\n",
      "Company: NYSE                                               Results: 506\n",
      "Company: MarketBeat.com                                     Results: 292\n",
      "Company: United States Steel Corporation                    Results: 240\n",
      "Company: Bank of America                                    Results: 225\n",
      "Company: Zacks Investment Research                          Results: 193\n",
      "Company: Goldman Sachs                                      Results: 185\n",
      "Company: Reliance Steel                                     Results: 184\n",
      "Company: Reliance Steel & Aluminum                          Results: 167\n",
      "Company: Longbow Research                                   Results: 163\n",
      "Company: AK Steel Holding Corporation                       Results: 150\n",
      "**\n",
      "India:\n",
      "Company: ArcelorMittal                                      Results: 354\n",
      "Company: Essar Steel                                        Results: 319\n",
      "Company: Tata Steel                                         Results: 319\n",
      "Company: JSW Steel                                          Results: 193\n",
      "Company: Numetal                                            Results: 191\n",
      "Company: Bhushan Steel                                      Results: 116\n",
      "Company: Reuters                                            Results: 114\n",
      "Company: Nippon Steel                                       Results: 110\n",
      "Company: State Bank of India                                Results: 96\n",
      "Company: Essar                                              Results: 73\n",
      "**\n",
      "Europe:\n",
      "Company: United States Steel Corporation                    Results: 192\n",
      "Company: NYSE                                               Results: 185\n",
      "Company: Tata Steel                                         Results: 101\n",
      "Company: MarketBeat.com                                     Results: 93\n",
      "Company: United States Steel Co.                            Results: 76\n",
      "Company: ArcelorMittal                                      Results: 74\n",
      "Company: ASME heaters                                       Results: 71\n",
      "Company: Bank of America                                    Results: 61\n",
      "Company: Pool Corporation                                   Results: 58\n",
      "Company: Reuters                                            Results: 56\n",
      "**\n",
      "US:\n",
      "Company: NYSE                                               Results: 153\n",
      "Company: Bank of America                                    Results: 74\n",
      "Company: Goldman Sachs                                      Results: 68\n",
      "Company: Reuters                                            Results: 68\n",
      "Company: US Steel                                           Results: 62\n",
      "Company: Longbow Research                                   Results: 55\n",
      "Company: Zacks Investment Research                          Results: 55\n",
      "Company: MarketBeat.com                                     Results: 43\n",
      "Company: ValuEngine                                         Results: 43\n",
      "Company: JSW Steel                                          Results: 42\n",
      "**\n",
      "North America:\n",
      "Company: NYSE                                               Results: 191\n",
      "Company: United States Steel Corporation                    Results: 140\n",
      "Company: MarketBeat.com                                     Results: 107\n",
      "Company: Bank of America                                    Results: 95\n",
      "Company: Longbow Research                                   Results: 76\n",
      "Company: United States Steel Co.                            Results: 73\n",
      "Company: ASME heaters                                       Results: 72\n",
      "Company: Schnitzer Steel Industries                         Results: 71\n",
      "Company: Schnitzer Steel Industries, Inc.                   Results: 70\n",
      "Company: ValuEngine                                         Results: 65\n",
      "**\n",
      "China:\n",
      "Company: ArcelorMittal                                      Results: 57\n",
      "Company: NYSE                                               Results: 55\n",
      "Company: Reliance Steel                                     Results: 45\n",
      "Company: Reuters                                            Results: 44\n",
      "Company: Reliance Steel & Aluminum                          Results: 42\n",
      "Company: Reliance Steel & Aluminum Co                       Results: 39\n",
      "Company: Bank of America                                    Results: 38\n",
      "Company: Tata Steel                                         Results: 37\n",
      "Company: Longbow Research                                   Results: 33\n",
      "Company: Essar Steel                                        Results: 26\n",
      "**\n",
      "U.S.:\n",
      "Company: NYSE                                               Results: 94\n",
      "Company: US Steel                                           Results: 46\n",
      "Company: Reuters                                            Results: 44\n",
      "Company: Goldman Sachs                                      Results: 43\n",
      "Company: MarketBeat.com                                     Results: 40\n",
      "Company: United States Steel Corporation                    Results: 39\n",
      "Company: Zacks Investment Research                          Results: 36\n",
      "Company: AK Steel Holding Corporation                       Results: 33\n",
      "Company: AMR                                                Results: 30\n",
      "Company: AK Steel Holding Co.                               Results: 22\n",
      "**\n",
      "Canada:\n",
      "Company: NYSE                                               Results: 91\n",
      "Company: Reliance Steel                                     Results: 65\n",
      "Company: Reliance Steel & Aluminum                          Results: 51\n",
      "Company: Bank of America                                    Results: 50\n",
      "Company: MarketBeat.com                                     Results: 48\n",
      "Company: Schnitzer Steel Industries, Inc.                   Results: 47\n",
      "Company: Schnitzer Steel Industries                         Results: 46\n",
      "Company: Longbow Research                                   Results: 42\n",
      "Company: Reliance Steel & Aluminum Co                       Results: 42\n",
      "Company: Reuters                                            Results: 42\n",
      "**\n",
      "Japan:\n",
      "Company: Kobe Steel                                         Results: 80\n",
      "Company: Nippon Steel                                       Results: 80\n",
      "Company: ArcelorMittal                                      Results: 70\n",
      "Company: Reuters                                            Results: 64\n",
      "Company: Essar Steel                                        Results: 50\n",
      "Company: Sumitomo Metal Corporation                         Results: 38\n",
      "Company: Kobe Steel Ltd                                     Results: 36\n",
      "Company: NSSMC                                              Results: 28\n",
      "Company: JSW Steel                                          Results: 23\n",
      "Company: Hiroya Kawasaki                                    Results: 21\n",
      "**\n",
      "Mexico:\n",
      "Company: NYSE                                               Results: 169\n",
      "Company: AK Steel Holding Corporation                       Results: 123\n",
      "Company: Longbow Research                                   Results: 73\n",
      "Company: AK Steel Holding Co.                               Results: 70\n",
      "Company: Zacks Investment Research                          Results: 69\n",
      "Company: AK Steel Company                                   Results: 61\n",
      "Company: Bank of America                                    Results: 58\n",
      "Company: MarketBeat.com                                     Results: 56\n",
      "Company: Jefferies Group                                    Results: 51\n",
      "Company: Reliance Steel                                     Results: 49\n",
      "**\n",
      "Ohio:\n",
      "Company: AK Steel Holding Corporation                       Results: 153\n",
      "Company: NYSE                                               Results: 132\n",
      "Company: MarketBeat.com                                     Results: 81\n",
      "Company: AK Steel Company                                   Results: 79\n",
      "Company: AK Steel Holding Co.                               Results: 71\n",
      "Company: Jefferies Group                                    Results: 60\n",
      "Company: Zacks Investment Research                          Results: 53\n",
      "Company: Olympic Steel                                      Results: 52\n",
      "Company: Longbow Research                                   Results: 40\n",
      "Company: Goldman Sachs                                      Results: 39\n",
      "**\n",
      "Russia:\n",
      "Company: ArcelorMittal                                      Results: 136\n",
      "Company: Essar Steel                                        Results: 133\n",
      "Company: Numetal                                            Results: 75\n",
      "Company: Nippon Steel                                       Results: 53\n",
      "Company: KSS Petron                                         Results: 44\n",
      "Company: JSW Steel                                          Results: 41\n",
      "Company: Tata Steel                                         Results: 39\n",
      "Company: Trump                                              Results: 37\n",
      "Company: Fusion GPS                                         Results: 31\n",
      "Company: Bhushan Steel                                      Results: 29\n",
      "**\n",
      "Indiana:\n"
     ]
    },
    {
     "name": "stdout",
     "output_type": "stream",
     "text": [
      "Company: AK Steel Holding Corporation                       Results: 118\n",
      "Company: NYSE                                               Results: 113\n",
      "Company: AK Steel Holding Co.                               Results: 71\n",
      "Company: AK Steel Company                                   Results: 62\n",
      "Company: Jefferies Group                                    Results: 59\n",
      "Company: Zacks Investment Research                          Results: 58\n",
      "Company: MarketBeat.com                                     Results: 44\n",
      "Company: Longbow Research                                   Results: 42\n",
      "Company: Goldman Sachs                                      Results: 35\n",
      "Company: Crow Point Partners LLC                            Results: 33\n",
      "**\n",
      "Pennsylvania:\n",
      "Company: AK Steel Holding Corporation                       Results: 166\n",
      "Company: NYSE                                               Results: 142\n",
      "Company: AK Steel Company                                   Results: 79\n",
      "Company: MarketBeat.com                                     Results: 75\n",
      "Company: AK Steel Holding Co.                               Results: 71\n",
      "Company: Jefferies Group                                    Results: 55\n",
      "Company: Zacks Investment Research                          Results: 55\n",
      "Company: Longbow Research                                   Results: 38\n",
      "Company: Goldman Sachs                                      Results: 37\n",
      "Company: Bank of America                                    Results: 34\n",
      "**\n",
      "Australia:\n",
      "Company: ASME heaters                                       Results: 72\n",
      "Company: Pool Corporation                                   Results: 72\n",
      "Company: Schnitzer Steel Industries                         Results: 72\n",
      "Company: Schnitzer Steel Industries, Inc.                   Results: 72\n",
      "Company: MarketBeat.com                                     Results: 53\n",
      "Company: NYSE                                               Results: 53\n",
      "Company: Reliance Steel                                     Results: 53\n",
      "Company: Reliance Steel & Aluminum                          Results: 49\n",
      "Company: Reliance Steel & Aluminum Co                       Results: 47\n",
      "Company: Cascade Steel                                      Results: 40\n",
      "**\n"
     ]
    }
   ],
   "source": [
    "for c in countries:\n",
    "    print (\"{}:\".format(c))\n",
    "    query = 'enriched_title.entities.text:\"steel\", enriched_text.entities.text:\"{}\"'.format(c)\n",
    "    agg = 'nested(enriched_text.entities).filter(enriched_text.entities.type::\"Company\").term(enriched_text.entities.text,count:10)'\n",
    "    qopts[\"query\"] = query\n",
    "    qopts[\"aggregation\"] = agg\n",
    "    results = discovery.query('system', 'news', **qopts)\n",
    "    for line in results['aggregations'][0]['aggregations'][0]['aggregations'][0]['results']:\n",
    "        print (\"Company: {:50} Results: {}\".format(line['key'], line['matching_results']))\n",
    "    print (\"**\")"
   ]
  },
  {
   "cell_type": "markdown",
   "metadata": {},
   "source": [
    "## Discovering that tariffs are happening?"
   ]
  },
  {
   "cell_type": "markdown",
   "metadata": {},
   "source": [
    "The original purpose of this query was to see what concepts show up in articles about steel, and see if we can learn about tarrifs. By now, tarrifs have fallen out of the news somewhat, but they still show up among the top results.\n",
    "\n",
    "Note also that we have changed the query slightly to better focus on articles about steel: we are now looking at articles that get categorized by 'industry,' so as to remove some irrelevant results."
   ]
  },
  {
   "cell_type": "code",
   "execution_count": 73,
   "metadata": {
    "collapsed": true
   },
   "outputs": [],
   "source": [
    "qopts = {}\n",
    "qopts[\"query\"] = 'enriched_text.entities.text:\"steel\",enriched_text.categories.label:\"industry\"'\n",
    "qopts[\"aggregation\"] = 'term(enriched_text.concepts.text,count:10)'\n",
    "results = discovery.query('system', 'news', **qopts)"
   ]
  },
  {
   "cell_type": "code",
   "execution_count": 74,
   "metadata": {},
   "outputs": [
    {
     "data": {
      "text/plain": [
       "[{'key': 'Steel', 'matching_results': 5577},\n",
       " {'key': 'Stock', 'matching_results': 3661},\n",
       " {'key': 'Stock market', 'matching_results': 3378},\n",
       " {'key': 'United States', 'matching_results': 3357},\n",
       " {'key': 'International trade', 'matching_results': 2724},\n",
       " {'key': 'Iron', 'matching_results': 2241},\n",
       " {'key': 'Donald Trump', 'matching_results': 2130},\n",
       " {'key': 'Tariff', 'matching_results': 1542},\n",
       " {'key': 'Economics', 'matching_results': 1476},\n",
       " {'key': 'Financial ratio', 'matching_results': 1376}]"
      ]
     },
     "execution_count": 74,
     "metadata": {},
     "output_type": "execute_result"
    }
   ],
   "source": [
    "results['aggregations'][0]['results']"
   ]
  },
  {
   "cell_type": "markdown",
   "metadata": {},
   "source": [
    "## Searching news by producers of aluminum"
   ]
  },
  {
   "cell_type": "markdown",
   "metadata": {},
   "source": [
    "Now, we search by company and display the top result and its URL."
   ]
  },
  {
   "cell_type": "code",
   "execution_count": 78,
   "metadata": {},
   "outputs": [
    {
     "name": "stdout",
     "output_type": "stream",
     "text": [
      "United Rusal : Rusal applies GDS delisting from Euronext Paris http://www.4-traders.com/UNITED-COMPANY-RUSAL-PLC-6165909/news/United-Rusal-Rusal-applies-GDS-delisting-from-Euronext-Paris-26295130/\n",
      "Rio Tinto Alcan fined for violating Fisheries Act https://steelguru.com/steel/Rio%20Tinto%20Alcan%20fined%20for%20violating%20Fisheries%20Act/508693?type=steel\n",
      "China Hongqiao Group Ltd http://www.4-traders.com/CHINA-HONGQIAO-GROUP-LTD-7650006/news/China-Hongqiao-Group-Ltd-annual-earnings-release-26196645/\n"
     ]
    }
   ],
   "source": [
    "companies = [\n",
    "    \"Rusal\",\n",
    "    \"Rio Tinto Alcan\",\n",
    "    \"Hongqiao\"\n",
    "]\n",
    "\n",
    "#Note: Rusal in Russian, RTA is Canadian, and Hongqiao is Chinese; these are the three largest alumnimun manufactors\n",
    "\n",
    "qopts = {}\n",
    "qopts[\"deduplicate\"] = True\n",
    "for c in companies:\n",
    "    qopts[\"query\"] = 'title:{}'.format(c)\n",
    "    results = discovery.query('system', 'news', **qopts)\n",
    "    print (results['results'][0]['title'], results['results'][0]['url'])\n",
    "\n"
   ]
  },
  {
   "cell_type": "markdown",
   "metadata": {},
   "source": [
    "## WDS Anomaly Detection"
   ]
  },
  {
   "cell_type": "markdown",
   "metadata": {},
   "source": [
    "Here, we're looking for anomalies in the news: on what days do we have way more articles than usual? We'll run the query, then plot the results.\n",
    "\n",
    "I've run this example with soybeans, which were in the news more recently (and thus more likely to have anomalous days). We'll print out what days the anomalies occur, and a sample news story from that day, then plot the time series of number of articles.\n",
    "\n",
    "For the query: note that we're just doing a simple search for the text 'soybeans'. We're filtering by English. Our aggregation is for a timeslice, which we're selecting by date of article crawled, with a one day window (as defined by the Eastern time zone), also pulling the top keyword and title from that day."
   ]
  },
  {
   "cell_type": "code",
   "execution_count": 85,
   "metadata": {
    "collapsed": true
   },
   "outputs": [],
   "source": [
    "# Anomaly detection query\n",
    "\n",
    "q = {\n",
    "  \"query\": \"\\\"Soybeans\\\"\",\n",
    "  \"filter\": \"language:(english|en)\",\n",
    "  \"count\": 15,\n",
    "  \"aggregation\":\"timeslice(field:crawl_date,interval:1day,time_zone:America/New_York,anomaly:true).term(enriched_text.keywords.text,count:1).term(title,count:1)\",\n",
    "  \"deduplicate\": True\n",
    "}\n",
    "\n",
    "results = discovery.query('system', 'news', **q)"
   ]
  },
  {
   "cell_type": "code",
   "execution_count": 95,
   "metadata": {},
   "outputs": [
    {
     "data": {
      "text/plain": [
       "{'aggregations': [{'count': 1,\n",
       "   'field': 'enriched_text.keywords.text',\n",
       "   'results': [{'aggregations': [{'count': 1,\n",
       "       'field': 'title',\n",
       "       'results': [{'key': 'Planting of corn and soybeans underway in South Dakota',\n",
       "         'matching_results': 4}],\n",
       "       'type': 'term'}],\n",
       "     'key': 'soybeans',\n",
       "     'matching_results': 45}],\n",
       "   'type': 'term'}],\n",
       " 'key': 1525924800000,\n",
       " 'key_as_string': '2018-05-10T00:00:00.000-04:00',\n",
       " 'matching_results': 373}"
      ]
     },
     "execution_count": 95,
     "metadata": {},
     "output_type": "execute_result"
    }
   ],
   "source": [
    "r"
   ]
  },
  {
   "cell_type": "code",
   "execution_count": 104,
   "metadata": {},
   "outputs": [
    {
     "name": "stdout",
     "output_type": "stream",
     "text": [
      "Anomaly detected!\n",
      "2018-04-04T00:00:00.000-04:00 On the brink: US and China threaten tariffs as fears rise\n",
      "Top Keyword: China\n",
      "\n",
      "Anomaly detected!\n",
      "2018-04-05T00:00:00.000-04:00 Trump proposes $100 billion in new tariffs on Chinese goods\n",
      "Top Keyword: China\n",
      "\n",
      "Anomaly detected!\n",
      "2018-04-06T00:00:00.000-04:00 China vows to 'counterattack' US as trade spat worsens\n",
      "Top Keyword: President Donald Trump\n",
      "\n"
     ]
    }
   ],
   "source": [
    "res_counts = []\n",
    "res_ohv = []\n",
    "for r in results['aggregations'][0]['results']:\n",
    "    res_counts.append(r['matching_results'])\n",
    "    if 'anomaly' in r.keys():\n",
    "        print ('Anomaly detected!')\n",
    "        print (r['key_as_string'], r['aggregations'][0]['results'][0]['aggregations'][0]['results'][0]['key'])\n",
    "        print (\"Top Keyword: {}\\n\".format(r['aggregations'][0]['results'][0]['key']))\n",
    "        res_ohv.append(1)\n",
    "    else:\n",
    "        res_ohv.append(0)"
   ]
  },
  {
   "cell_type": "code",
   "execution_count": 105,
   "metadata": {
    "collapsed": true
   },
   "outputs": [],
   "source": [
    "span = len(results['aggregations'][0]['results'])\n",
    "dates = [results['aggregations'][0]['results'][i]['key_as_string'] for i in range(span)]\n",
    "dates = [d[:10] for d in dates]"
   ]
  },
  {
   "cell_type": "code",
   "execution_count": 106,
   "metadata": {},
   "outputs": [
    {
     "data": {
      "image/png": "[encoded data removed]",
      "text/plain": [
       "<matplotlib.figure.Figure at 0x114f7bfd0>"
      ]
     },
     "metadata": {},
     "output_type": "display_data"
    }
   ],
   "source": [
    "#labels = dates[::5]\n",
    "labels = [d if i % 5 == 0 else ' ' for i, d in enumerate(dates)]\n",
    "plt.plot(range(len(res_counts)), res_counts)\n",
    "plt.xticks(range(len(labels)), labels, rotation='vertical')\n",
    "\n",
    "for i, y in enumerate(res_counts):\n",
    "    if res_ohv[i] == 1:\n",
    "        plt.annotate('X', xy=(i, y), color='r')\n",
    "\n",
    "plt.show()"
   ]
  },
  {
   "cell_type": "markdown",
   "metadata": {},
   "source": [
    "### Co-Mentions and Trends"
   ]
  },
  {
   "cell_type": "markdown",
   "metadata": {},
   "source": [
    "These queries look at particular commodities (aluminum and soybeans) and see top keywords in the news about that, as well as the sentiment of those articles by keyword.\n",
    "\n",
    "The third query looks at a company that has been in the news about its bankrupcy. Note that we've located bankrupcy as one of the keywords, and that these articles have particularly low sentiment scores."
   ]
  },
  {
   "cell_type": "code",
   "execution_count": 109,
   "metadata": {
    "collapsed": true
   },
   "outputs": [],
   "source": [
    "q = {\n",
    "  \"query\": \"\\\"Aluminum\\\"\",\n",
    "  \"filter\": \"language:(english|en)\",\n",
    "  \"aggregation\": [\n",
    "      \"term(enriched_text.keywords.text,count:10).average(enriched_title.sentiment.document.score)\"\n",
    "  ]\n",
    "}\n",
    "\n",
    "results = discovery.query('system', 'news', **q)"
   ]
  },
  {
   "cell_type": "code",
   "execution_count": 110,
   "metadata": {},
   "outputs": [
    {
     "name": "stdout",
     "output_type": "stream",
     "text": [
      "President Donald Trump                              Number of articles: 30414  Sentiment: -0.16424030938052808\n",
      "United States                                       Number of articles: 20920  Sentiment: -0.15871410416170567\n",
      "Trump administration                                Number of articles: 15635  Sentiment: -0.20012140003198153\n",
      "trade war                                           Number of articles: 12703  Sentiment: -0.25771839318271283\n",
      "China                                               Number of articles: 12178  Sentiment: -0.2160805773129671\n",
      "White House                                         Number of articles: 11961  Sentiment: -0.14012109956438126\n",
      "tariffs                                             Number of articles: 11248  Sentiment: -0.22056191062066516\n",
      "aluminum tariffs                                    Number of articles: 9466  Sentiment: -0.125321118945589\n",
      "President Trump                                     Number of articles: 8886  Sentiment: -0.1548327626585682\n",
      "percent                                             Number of articles: 8666  Sentiment: -0.26804681372836364\n"
     ]
    }
   ],
   "source": [
    "for rez in results['aggregations'][0]['results']:\n",
    "    print (\"{:50}  Number of articles: {}  Sentiment: {}\".format(\n",
    "        rez['key'], rez['matching_results'], rez['aggregations'][0]['value']))"
   ]
  },
  {
   "cell_type": "code",
   "execution_count": 111,
   "metadata": {},
   "outputs": [
    {
     "name": "stdout",
     "output_type": "stream",
     "text": [
      "China                                               Number of articles: 11844  Sentiment: -0.2669338540488051\n",
      "President Donald Trump                              Number of articles: 10918  Sentiment: -0.26500722222934603\n",
      "trade war                                           Number of articles: 9823  Sentiment: -0.2986796142231724\n",
      "United States                                       Number of articles: 9305  Sentiment: -0.27245810051585173\n",
      "Trump administration                                Number of articles: 7169  Sentiment: -0.2797062634626117\n",
      "tariffs                                             Number of articles: 5957  Sentiment: -0.2835373509905978\n",
      "Chinese goods                                       Number of articles: 4898  Sentiment: -0.2802585068803594\n",
      "soybeans                                            Number of articles: 4884  Sentiment: -0.19498681085176087\n",
      "World Trade Organization                            Number of articles: 3357  Sentiment: -0.2867162021745607\n",
      "White House                                         Number of articles: 3207  Sentiment: -0.25972010536326784\n"
     ]
    }
   ],
   "source": [
    "q = {\n",
    "  \"query\": \"\\\"Soybeans\\\"\",\n",
    "  \"filter\": \"language:(english|en)\",\n",
    "  \"aggregation\": [\n",
    "      \"term(enriched_text.keywords.text,count:10).average(enriched_title.sentiment.document.score)\"\n",
    "  ]\n",
    "}\n",
    "\n",
    "results = discovery.query('system', 'news', **q)\n",
    "for rez in results['aggregations'][0]['results']:\n",
    "    print (\"{:50}  Number of articles: {}  Sentiment: {}\".format(\n",
    "        rez['key'], rez['matching_results'], rez['aggregations'][0]['value']))"
   ]
  },
  {
   "cell_type": "code",
   "execution_count": 114,
   "metadata": {},
   "outputs": [
    {
     "name": "stdout",
     "output_type": "stream",
     "text": [
      "Toy                                                 Number of articles: 4424  Sentiment: -0.24132985595749482\n",
      "Retailing                                           Number of articles: 4207  Sentiment: -0.2424886766048501\n",
      "Bankruptcy                                          Number of articles: 3789  Sentiment: -0.2753180539070748\n",
      "Mattel                                              Number of articles: 3195  Sentiment: -0.2754573921102067\n",
      "Toys \"R\" Us                                         Number of articles: 3171  Sentiment: -0.21767586441640377\n",
      "Toy dog                                             Number of articles: 2926  Sentiment: -0.27169817900854704\n",
      "Wal-Mart                                            Number of articles: 2910  Sentiment: -0.2702188721897558\n",
      "Liquidation                                         Number of articles: 2498  Sentiment: -0.26754845006007194\n",
      "United States                                       Number of articles: 2459  Sentiment: -0.19503345957706378\n",
      "Sales                                               Number of articles: 1798  Sentiment: -0.2027207862068965\n"
     ]
    }
   ],
   "source": [
    "q = {\n",
    "  \"query\": \"\\\"Toys R Us\\\"\",\n",
    "  \"filter\": \"language:(english|en)\",\n",
    "  \"aggregation\": [\n",
    "      \"term(enriched_text.concepts.text,count:10).average(enriched_title.sentiment.document.score)\"\n",
    "  ]\n",
    "}\n",
    "\n",
    "results = discovery.query('system', 'news', **q)\n",
    "for rez in results['aggregations'][0]['results']:\n",
    "    print (\"{:50}  Number of articles: {}  Sentiment: {}\".format(\n",
    "        rez['key'], rez['matching_results'], rez['aggregations'][0]['value']))"
   ]
  }
 ],
 "metadata": {
  "kernelspec": {
   "display_name": "Python 3",
   "language": "python",
   "name": "python3"
  },
  "language_info": {
   "codemirror_mode": {
    "name": "ipython",
    "version": 3
   },
   "file_extension": ".py",
   "mimetype": "text/x-python",
   "name": "python",
   "nbconvert_exporter": "python",
   "pygments_lexer": "ipython3",
   "version": "3.6.4"
  }
 },
 "nbformat": 4,
 "nbformat_minor": 2
}
